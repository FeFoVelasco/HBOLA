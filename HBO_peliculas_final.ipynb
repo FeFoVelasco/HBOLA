{
 "cells": [
  {
   "cell_type": "code",
   "execution_count": 21,
   "id": "corresponding-former",
   "metadata": {},
   "outputs": [],
   "source": [
    "from selenium import webdriver\n",
    "from selenium.webdriver.support.ui import WebDriverWait\n",
    "from selenium.webdriver.support import expected_conditions as EC\n",
    "from selenium.webdriver.common.by import By\n",
    "from selenium.webdriver.common.keys import Keys\n",
    "import re\n",
    "import time\n",
    "import requests\n",
    "import pandas\n",
    "from bs4 import BeautifulSoup\n",
    "import json\n",
    "import re\n",
    "import numpy\n",
    "import itertools\n",
    "import pandas as pd\n",
    "from unidecode import unidecode\n",
    "from time import sleep\n",
    "from IPython.display import clear_output"
   ]
  },
  {
   "cell_type": "code",
   "execution_count": 22,
   "id": "ethical-boost",
   "metadata": {},
   "outputs": [],
   "source": [
    "url = 'https://www.hbogola.com/home'"
   ]
  },
  {
   "cell_type": "code",
   "execution_count": 31,
   "id": "studied-extension",
   "metadata": {},
   "outputs": [],
   "source": [
    "driver = webdriver.Chrome(\"/usr/lib/chromium-browser/chromedriver\") #Driver de chrome\n",
    "driver.get(url)# Aca utilizamos un get para el driver\n",
    "driver.maximize_window()#maximizamos la ventana\n",
    "cookies_xpath = '//*[@id=\"onetrust-accept-btn-handler\"]'#Identificamos las cookies\n",
    "WebDriverWait(driver, 10).until(EC.presence_of_element_located((By.XPATH, cookies_xpath))).click()#Aceptamos las cookies\n",
    "movies_xpath = '//*[@id=\"root\"]/div/div[1]/div/div[1]/div/ul/li[2]/a/span'#boton de películas\n",
    "WebDriverWait(driver, 1).until(EC.presence_of_element_located((By.XPATH, movies_xpath))).click()#clic en peliculas\n",
    "storeby_xpath = '//*[@id=\"root\"]/div/div[2]/div/div/div[2]/div[2]/div/div/span'\n",
    "WebDriverWait(driver, 5).until(EC.presence_of_element_located((By.XPATH, storeby_xpath))).click()\n",
    "az_xpath = '//*[@id=\"root\"]/div/div[2]/div/div/div[2]/div[2]/div/div[3]/div[2]/span'\n",
    "WebDriverWait(driver, 1).until(EC.presence_of_element_located((By.XPATH, az_xpath))).click()"
   ]
  },
  {
   "cell_type": "code",
   "execution_count": 24,
   "id": "mighty-token",
   "metadata": {},
   "outputs": [],
   "source": [
    "def get_movie_info(url):\n",
    "    \"\"\"\n",
    "    Esta función recibe la url de una película\n",
    "    y devuelve un diccionario con la metadata asociada.\n",
    "    \"\"\"\n",
    "    # Get de la url\n",
    "    #driver.get(url)\n",
    "    \n",
    "    # Esperamos a que haya cargado la página\n",
    "    WebDriverWait(driver, 5).until(lambda d: d.find_element_by_tag_name(\"p\"))\n",
    "    \n",
    "    ## Buscamos los distintos elementos a partir de su class name\n",
    "    # titleOfMovie\n",
    "    title = driver.find_element(By.CLASS_NAME, \"titleOfMovie\")\n",
    "    \n",
    "    # detailsElement\n",
    "    details = driver.find_elements(By.CLASS_NAME, \"detailsElement\")\n",
    "    # Extraemos el contenido de cada elemento de details y normalizamos el texto\n",
    "    details = [unidecode(detail.text) for detail in details]\n",
    "    \n",
    "    # abstract\n",
    "    abstract = driver.find_element(By.CLASS_NAME, \"abstract\")\n",
    "    \n",
    "    # languagesAndSubtitlesContainer\n",
    "    lang_sub = driver.find_element(By.CLASS_NAME, \"languagesAndSubtitlesContainer\")\n",
    "    \n",
    "    # castNCrewHeaderElement\n",
    "    cast_crew_header = driver.find_elements(By.CLASS_NAME, \"castNCrewHeaderElement\")\n",
    "    # Extraemos el texto de cada header\n",
    "    headers = [h.text for h in cast_crew_header]\n",
    "    \n",
    "    # castNCrewBodyElement\n",
    "    cast_crew_body = driver.find_elements(By.CLASS_NAME, \"castNCrewBodyElement\")\n",
    "    # Extraemos el texto de cada body\n",
    "    bodies = [b.text.split('\\n') for b in cast_crew_body]\n",
    "    \n",
    "    # Zip de cast and crew\n",
    "    cast_crew = dict(zip(headers, bodies))\n",
    "    \n",
    "    # Creamos un diccionario donde ir volcando la info de la película\n",
    "    movie = dict()\n",
    "    movie['title'] = title.text\n",
    "    movie['details'] = details\n",
    "    movie['languages_subs'] = lang_sub.text.split('\\n')\n",
    "    movie['cast_crew'] =  cast_crew\n",
    "    \n",
    "    return movie"
   ]
  },
  {
   "cell_type": "code",
   "execution_count": 5,
   "id": "hired-amazon",
   "metadata": {},
   "outputs": [],
   "source": [
    "movies = list(); error_urls = list()"
   ]
  },
  {
   "cell_type": "code",
   "execution_count": 25,
   "id": "abroad-jurisdiction",
   "metadata": {},
   "outputs": [],
   "source": [
    "def get_movies_by_letter_id(letter_id):\n",
    "    x = letter_id\n",
    "    y = 1\n",
    "    z = 1\n",
    "    while True:\n",
    "        try:\n",
    "            driver.find_element(By.XPATH, f'//*[@id=\"root\"]/div/div[2]/div/div/div[{x}]/div/div/div/div[{y}]/div[{z}]/div/img').click()\n",
    "            sleep(3)\n",
    "            current_url = driver.current_url\n",
    "            try:\n",
    "                movie = get_movie_info(current_url)\n",
    "                movies.append(movie)\n",
    "            except:\n",
    "                print(f'Error en {current_url}')\n",
    "                error_urls.append(current_url)\n",
    "            driver.back()\n",
    "            sleep(3)\n",
    "            z += 1\n",
    "        except:\n",
    "            y += 1\n",
    "            z = 1\n",
    "            try:\n",
    "                driver.find_element(By.XPATH, f'//*[@id=\"root\"]/div/div[2]/div/div/div[{x}]/div/div/div/div[{y}]/div[{z}]/div/img').click()\n",
    "                sleep(3)\n",
    "                current_url = driver.current_url\n",
    "                try:\n",
    "                    movie = get_movie_info(current_url)\n",
    "                    movies.append(movie)\n",
    "                except:\n",
    "                    print(f'Error en {current_url}')\n",
    "                    error_urls.append(current_url)\n",
    "                driver.back()\n",
    "                sleep(3)\n",
    "                z += 1\n",
    "            except:\n",
    "                break"
   ]
  },
  {
   "cell_type": "code",
   "execution_count": 26,
   "id": "rental-secretariat",
   "metadata": {
    "scrolled": true
   },
   "outputs": [
    {
     "data": {
      "text/plain": [
       "{'#': 3,\n",
       " 'A': 4,\n",
       " 'B': 5,\n",
       " 'C': 6,\n",
       " 'D': 7,\n",
       " 'E': 8,\n",
       " 'F': 9,\n",
       " 'G': 10,\n",
       " 'H': 11,\n",
       " 'I': 12,\n",
       " 'J': 13,\n",
       " 'K': 14,\n",
       " 'L': 15,\n",
       " 'M': 16,\n",
       " 'N': 17,\n",
       " 'O': 18,\n",
       " 'P': 19,\n",
       " 'Q': 20,\n",
       " 'R': 21,\n",
       " 'S': 22,\n",
       " 'T': 23,\n",
       " 'U': 24,\n",
       " 'V': 25,\n",
       " 'W': 26,\n",
       " 'X': 27,\n",
       " 'Y': 28,\n",
       " 'Z': 29}"
      ]
     },
     "execution_count": 26,
     "metadata": {},
     "output_type": "execute_result"
    }
   ],
   "source": [
    "letters = ['#', 'A', 'B', 'C', 'D', 'E', 'F', 'G', 'H', 'I', 'J', 'K', 'L', 'M',\n",
    "           'N', 'O', 'P', 'Q', 'R', 'S', 'T', 'U', 'V', 'W', 'X', 'Y', 'Z']\n",
    "ids = list(range(3, len(letters)+3))\n",
    "letters_ids = dict(zip(letters, ids))\n",
    "letters_ids"
   ]
  },
  {
   "cell_type": "code",
   "execution_count": 8,
   "id": "binary-wrapping",
   "metadata": {},
   "outputs": [],
   "source": [
    "for letter_id in ids:\n",
    "    try:\n",
    "        get_movies_by_letter_id(letter_id)\n",
    "    except:\n",
    "        pass"
   ]
  },
  {
   "cell_type": "code",
   "execution_count": 10,
   "id": "wireless-medicaid",
   "metadata": {},
   "outputs": [],
   "source": [
    "for letter_id in ids[2:]:\n",
    "    try:\n",
    "        get_movies_by_letter_id(letter_id)\n",
    "    except:\n",
    "        pass"
   ]
  },
  {
   "cell_type": "code",
   "execution_count": 28,
   "id": "varied-elevation",
   "metadata": {},
   "outputs": [],
   "source": [
    "for letter_id in ids[12:]:\n",
    "    try:\n",
    "        get_movies_by_letter_id(letter_id)\n",
    "    except:\n",
    "        pass"
   ]
  },
  {
   "cell_type": "code",
   "execution_count": 13,
   "id": "yellow-layer",
   "metadata": {},
   "outputs": [],
   "source": [
    "with open('movies.json', 'w') as file:\n",
    "    json.dump(movies, file)"
   ]
  }
 ],
 "metadata": {
  "kernelspec": {
   "display_name": "Python 3",
   "language": "python",
   "name": "python3"
  },
  "language_info": {
   "codemirror_mode": {
    "name": "ipython",
    "version": 3
   },
   "file_extension": ".py",
   "mimetype": "text/x-python",
   "name": "python",
   "nbconvert_exporter": "python",
   "pygments_lexer": "ipython3",
   "version": "3.7.10"
  }
 },
 "nbformat": 4,
 "nbformat_minor": 5
}
